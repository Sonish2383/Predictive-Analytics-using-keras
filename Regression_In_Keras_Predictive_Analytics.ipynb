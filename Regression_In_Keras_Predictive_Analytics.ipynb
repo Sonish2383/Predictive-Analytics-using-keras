{
  "nbformat": 4,
  "nbformat_minor": 0,
  "metadata": {
    "colab": {
      "name": "Regression In Keras- Predictive Analytics.ipynb",
      "version": "0.3.2",
      "provenance": [],
      "collapsed_sections": [],
      "include_colab_link": true
    },
    "kernelspec": {
      "name": "python3",
      "display_name": "Python 3"
    }
  },
  "cells": [
    {
      "cell_type": "markdown",
      "metadata": {
        "id": "view-in-github",
        "colab_type": "text"
      },
      "source": [
        "<a href=\"https://colab.research.google.com/github/Sonish2383/Predictive-Analytics-using-keras/blob/master/Regression_In_Keras_Predictive_Analytics.ipynb\" target=\"_parent\"><img src=\"https://colab.research.google.com/assets/colab-badge.svg\" alt=\"Open In Colab\"/></a>"
      ]
    },
    {
      "cell_type": "code",
      "metadata": {
        "id": "wnC-btizKnKj",
        "colab_type": "code",
        "outputId": "bf88288d-6132-4d36-f548-be360fef545a",
        "colab": {
          "base_uri": "https://localhost:8080/",
          "height": 360
        }
      },
      "source": [
        "pip install --upgrade tensorflow\n"
      ],
      "execution_count": 0,
      "outputs": [
        {
          "output_type": "stream",
          "text": [
            "Requirement already up-to-date: tensorflow in /usr/local/lib/python3.6/dist-packages (1.13.1)\n",
            "Requirement already satisfied, skipping upgrade: gast>=0.2.0 in /usr/local/lib/python3.6/dist-packages (from tensorflow) (0.2.2)\n",
            "Requirement already satisfied, skipping upgrade: tensorflow-estimator<1.14.0rc0,>=1.13.0 in /usr/local/lib/python3.6/dist-packages (from tensorflow) (1.13.0)\n",
            "Requirement already satisfied, skipping upgrade: termcolor>=1.1.0 in /usr/local/lib/python3.6/dist-packages (from tensorflow) (1.1.0)\n",
            "Requirement already satisfied, skipping upgrade: protobuf>=3.6.1 in /usr/local/lib/python3.6/dist-packages (from tensorflow) (3.7.1)\n",
            "Requirement already satisfied, skipping upgrade: astor>=0.6.0 in /usr/local/lib/python3.6/dist-packages (from tensorflow) (0.7.1)\n",
            "Requirement already satisfied, skipping upgrade: six>=1.10.0 in /usr/local/lib/python3.6/dist-packages (from tensorflow) (1.12.0)\n",
            "Requirement already satisfied, skipping upgrade: wheel>=0.26 in /usr/local/lib/python3.6/dist-packages (from tensorflow) (0.33.4)\n",
            "Requirement already satisfied, skipping upgrade: keras-applications>=1.0.6 in /usr/local/lib/python3.6/dist-packages (from tensorflow) (1.0.7)\n",
            "Requirement already satisfied, skipping upgrade: absl-py>=0.1.6 in /usr/local/lib/python3.6/dist-packages (from tensorflow) (0.7.1)\n",
            "Requirement already satisfied, skipping upgrade: numpy>=1.13.3 in /usr/local/lib/python3.6/dist-packages (from tensorflow) (1.16.3)\n",
            "Requirement already satisfied, skipping upgrade: tensorboard<1.14.0,>=1.13.0 in /usr/local/lib/python3.6/dist-packages (from tensorflow) (1.13.1)\n",
            "Requirement already satisfied, skipping upgrade: grpcio>=1.8.6 in /usr/local/lib/python3.6/dist-packages (from tensorflow) (1.15.0)\n",
            "Requirement already satisfied, skipping upgrade: keras-preprocessing>=1.0.5 in /usr/local/lib/python3.6/dist-packages (from tensorflow) (1.0.9)\n",
            "Requirement already satisfied, skipping upgrade: mock>=2.0.0 in /usr/local/lib/python3.6/dist-packages (from tensorflow-estimator<1.14.0rc0,>=1.13.0->tensorflow) (3.0.5)\n",
            "Requirement already satisfied, skipping upgrade: setuptools in /usr/local/lib/python3.6/dist-packages (from protobuf>=3.6.1->tensorflow) (41.0.1)\n",
            "Requirement already satisfied, skipping upgrade: h5py in /usr/local/lib/python3.6/dist-packages (from keras-applications>=1.0.6->tensorflow) (2.8.0)\n",
            "Requirement already satisfied, skipping upgrade: werkzeug>=0.11.15 in /usr/local/lib/python3.6/dist-packages (from tensorboard<1.14.0,>=1.13.0->tensorflow) (0.15.2)\n",
            "Requirement already satisfied, skipping upgrade: markdown>=2.6.8 in /usr/local/lib/python3.6/dist-packages (from tensorboard<1.14.0,>=1.13.0->tensorflow) (3.1)\n"
          ],
          "name": "stdout"
        }
      ]
    },
    {
      "cell_type": "code",
      "metadata": {
        "id": "RalgDm2_KsMy",
        "colab_type": "code",
        "outputId": "e3016ebc-9277-4908-9231-341b4c0eb11b",
        "colab": {
          "base_uri": "https://localhost:8080/",
          "height": 428
        }
      },
      "source": [
        "pip install --upgrade tensorflow-gpu\n"
      ],
      "execution_count": 0,
      "outputs": [
        {
          "output_type": "stream",
          "text": [
            "Collecting tensorflow-gpu\n",
            "\u001b[?25l  Downloading https://files.pythonhosted.org/packages/7b/b1/0ad4ae02e17ddd62109cd54c291e311c4b5fd09b4d0678d3d6ce4159b0f0/tensorflow_gpu-1.13.1-cp36-cp36m-manylinux1_x86_64.whl (345.2MB)\n",
            "\u001b[K     |████████████████████████████████| 345.2MB 60kB/s \n",
            "\u001b[?25hRequirement already satisfied, skipping upgrade: astor>=0.6.0 in /usr/local/lib/python3.6/dist-packages (from tensorflow-gpu) (0.7.1)\n",
            "Requirement already satisfied, skipping upgrade: gast>=0.2.0 in /usr/local/lib/python3.6/dist-packages (from tensorflow-gpu) (0.2.2)\n",
            "Requirement already satisfied, skipping upgrade: wheel>=0.26 in /usr/local/lib/python3.6/dist-packages (from tensorflow-gpu) (0.33.4)\n",
            "Requirement already satisfied, skipping upgrade: tensorflow-estimator<1.14.0rc0,>=1.13.0 in /usr/local/lib/python3.6/dist-packages (from tensorflow-gpu) (1.13.0)\n",
            "Requirement already satisfied, skipping upgrade: keras-preprocessing>=1.0.5 in /usr/local/lib/python3.6/dist-packages (from tensorflow-gpu) (1.0.9)\n",
            "Requirement already satisfied, skipping upgrade: termcolor>=1.1.0 in /usr/local/lib/python3.6/dist-packages (from tensorflow-gpu) (1.1.0)\n",
            "Requirement already satisfied, skipping upgrade: numpy>=1.13.3 in /usr/local/lib/python3.6/dist-packages (from tensorflow-gpu) (1.16.3)\n",
            "Requirement already satisfied, skipping upgrade: six>=1.10.0 in /usr/local/lib/python3.6/dist-packages (from tensorflow-gpu) (1.12.0)\n",
            "Requirement already satisfied, skipping upgrade: protobuf>=3.6.1 in /usr/local/lib/python3.6/dist-packages (from tensorflow-gpu) (3.7.1)\n",
            "Requirement already satisfied, skipping upgrade: tensorboard<1.14.0,>=1.13.0 in /usr/local/lib/python3.6/dist-packages (from tensorflow-gpu) (1.13.1)\n",
            "Requirement already satisfied, skipping upgrade: grpcio>=1.8.6 in /usr/local/lib/python3.6/dist-packages (from tensorflow-gpu) (1.15.0)\n",
            "Requirement already satisfied, skipping upgrade: keras-applications>=1.0.6 in /usr/local/lib/python3.6/dist-packages (from tensorflow-gpu) (1.0.7)\n",
            "Requirement already satisfied, skipping upgrade: absl-py>=0.1.6 in /usr/local/lib/python3.6/dist-packages (from tensorflow-gpu) (0.7.1)\n",
            "Requirement already satisfied, skipping upgrade: mock>=2.0.0 in /usr/local/lib/python3.6/dist-packages (from tensorflow-estimator<1.14.0rc0,>=1.13.0->tensorflow-gpu) (3.0.5)\n",
            "Requirement already satisfied, skipping upgrade: setuptools in /usr/local/lib/python3.6/dist-packages (from protobuf>=3.6.1->tensorflow-gpu) (41.0.1)\n",
            "Requirement already satisfied, skipping upgrade: werkzeug>=0.11.15 in /usr/local/lib/python3.6/dist-packages (from tensorboard<1.14.0,>=1.13.0->tensorflow-gpu) (0.15.2)\n",
            "Requirement already satisfied, skipping upgrade: markdown>=2.6.8 in /usr/local/lib/python3.6/dist-packages (from tensorboard<1.14.0,>=1.13.0->tensorflow-gpu) (3.1)\n",
            "Requirement already satisfied, skipping upgrade: h5py in /usr/local/lib/python3.6/dist-packages (from keras-applications>=1.0.6->tensorflow-gpu) (2.8.0)\n",
            "Installing collected packages: tensorflow-gpu\n",
            "Successfully installed tensorflow-gpu-1.13.1\n"
          ],
          "name": "stdout"
        }
      ]
    },
    {
      "cell_type": "code",
      "metadata": {
        "id": "vixzJ6Y7K29T",
        "colab_type": "code",
        "colab": {}
      },
      "source": [
        "import tensorflow\n"
      ],
      "execution_count": 0,
      "outputs": []
    },
    {
      "cell_type": "code",
      "metadata": {
        "id": "snG0522mLPuK",
        "colab_type": "code",
        "outputId": "e06bbe9d-6120-4b26-fc3c-89beda8a565d",
        "colab": {
          "base_uri": "https://localhost:8080/",
          "height": 153
        }
      },
      "source": [
        "pip install keras\n"
      ],
      "execution_count": 0,
      "outputs": [
        {
          "output_type": "stream",
          "text": [
            "Requirement already satisfied: keras in /usr/local/lib/python3.6/dist-packages (2.2.4)\n",
            "Requirement already satisfied: keras-preprocessing>=1.0.5 in /usr/local/lib/python3.6/dist-packages (from keras) (1.0.9)\n",
            "Requirement already satisfied: keras-applications>=1.0.6 in /usr/local/lib/python3.6/dist-packages (from keras) (1.0.7)\n",
            "Requirement already satisfied: scipy>=0.14 in /usr/local/lib/python3.6/dist-packages (from keras) (1.2.1)\n",
            "Requirement already satisfied: six>=1.9.0 in /usr/local/lib/python3.6/dist-packages (from keras) (1.12.0)\n",
            "Requirement already satisfied: numpy>=1.9.1 in /usr/local/lib/python3.6/dist-packages (from keras) (1.16.3)\n",
            "Requirement already satisfied: pyyaml in /usr/local/lib/python3.6/dist-packages (from keras) (3.13)\n",
            "Requirement already satisfied: h5py in /usr/local/lib/python3.6/dist-packages (from keras) (2.8.0)\n"
          ],
          "name": "stdout"
        }
      ]
    },
    {
      "cell_type": "code",
      "metadata": {
        "id": "NtzjkjFcL60i",
        "colab_type": "code",
        "colab": {}
      },
      "source": [
        "from keras.models import Sequential\n",
        "from keras.layers import Dense, Activation,Conv2D,MaxPooling2D,Flatten,Dropout\n",
        "\n",
        "model = Sequential()\n"
      ],
      "execution_count": 0,
      "outputs": []
    },
    {
      "cell_type": "code",
      "metadata": {
        "id": "gNQNpe6iLqrJ",
        "colab_type": "code",
        "outputId": "a4bef8c8-a4ec-445c-bae1-63417e70443b",
        "colab": {
          "base_uri": "https://localhost:8080/",
          "height": 34
        }
      },
      "source": [
        "import keras\n"
      ],
      "execution_count": 0,
      "outputs": [
        {
          "output_type": "stream",
          "text": [
            "Using TensorFlow backend.\n"
          ],
          "name": "stderr"
        }
      ]
    },
    {
      "cell_type": "markdown",
      "metadata": {
        "id": "sGch3jyGOBtr",
        "colab_type": "text"
      },
      "source": [
        "# 1. Sequential Model\n"
      ]
    },
    {
      "cell_type": "code",
      "metadata": {
        "id": "gdOLgrPfNivy",
        "colab_type": "code",
        "colab": {}
      },
      "source": [
        "model.add(Conv2D(48, (3, 3), activation='relu'))"
      ],
      "execution_count": 0,
      "outputs": []
    },
    {
      "cell_type": "markdown",
      "metadata": {
        "id": "Bz_EA91JORat",
        "colab_type": "text"
      },
      "source": [
        "# 2. Convolutional Layer"
      ]
    },
    {
      "cell_type": "code",
      "metadata": {
        "id": "roqowN8nNvuj",
        "colab_type": "code",
        "colab": {}
      },
      "source": [
        "model.add(Conv2D(48, (3, 3), activation='relu'))"
      ],
      "execution_count": 0,
      "outputs": []
    },
    {
      "cell_type": "markdown",
      "metadata": {
        "id": "VzrDxv6eN_xG",
        "colab_type": "text"
      },
      "source": [
        "# 3. MaxPooling Layer"
      ]
    },
    {
      "cell_type": "code",
      "metadata": {
        "id": "TiEJ3e25OpwJ",
        "colab_type": "code",
        "colab": {}
      },
      "source": [
        "model.add(MaxPooling2D(pool_size=(2, 2)))"
      ],
      "execution_count": 0,
      "outputs": []
    },
    {
      "cell_type": "markdown",
      "metadata": {
        "id": "I3dG6K5iTv0e",
        "colab_type": "text"
      },
      "source": [
        "# 4. Dense Layer"
      ]
    },
    {
      "cell_type": "code",
      "metadata": {
        "id": "2wPNesGsT2en",
        "colab_type": "code",
        "colab": {}
      },
      "source": [
        "model.add(Dense(256, activation='relu'))"
      ],
      "execution_count": 0,
      "outputs": []
    },
    {
      "cell_type": "markdown",
      "metadata": {
        "id": "GxIeuHpWT-FK",
        "colab_type": "text"
      },
      "source": [
        "# 5. Dropout Layer"
      ]
    },
    {
      "cell_type": "code",
      "metadata": {
        "id": "WinmirQXUM9_",
        "colab_type": "code",
        "colab": {}
      },
      "source": [
        "model.add(Dropout(0.5))"
      ],
      "execution_count": 0,
      "outputs": []
    },
    {
      "cell_type": "markdown",
      "metadata": {
        "id": "rOBAzyyxUXtj",
        "colab_type": "text"
      },
      "source": [
        "# Compiling, Training, and Evaluate"
      ]
    },
    {
      "cell_type": "code",
      "metadata": {
        "id": "bVc1whVpUapc",
        "colab_type": "code",
        "outputId": "6a4adffd-2d5c-456c-e95a-467c20a5c59e",
        "colab": {
          "base_uri": "https://localhost:8080/",
          "height": 88
        }
      },
      "source": [
        "model.compile(loss='mean_squared_error', optimizer='adam')"
      ],
      "execution_count": 0,
      "outputs": [
        {
          "output_type": "stream",
          "text": [
            "WARNING:tensorflow:From /usr/local/lib/python3.6/dist-packages/tensorflow/python/framework/op_def_library.py:263: colocate_with (from tensorflow.python.framework.ops) is deprecated and will be removed in a future version.\n",
            "Instructions for updating:\n",
            "Colocations handled automatically by placer.\n"
          ],
          "name": "stdout"
        }
      ]
    },
    {
      "cell_type": "markdown",
      "metadata": {
        "id": "1dz6zMDZUu5L",
        "colab_type": "text"
      },
      "source": [
        "# FIRST PROGRAM KERAS- REGRESSION"
      ]
    },
    {
      "cell_type": "code",
      "metadata": {
        "id": "ttnNWDW7U3If",
        "colab_type": "code",
        "outputId": "56741add-7c9e-4677-d3d5-34c4628b3257",
        "colab": {
          "base_uri": "https://localhost:8080/",
          "height": 1394
        }
      },
      "source": [
        "import keras\n",
        "from keras.models import Sequential\n",
        "from keras.layers import Dense, Activation\n",
        "import numpy as np\n",
        "import matplotlib.pyplot as plt \n",
        " \n",
        "x = data = np.linspace(1,2,200)\n",
        "y = x*4 + np.random.randn(*x.shape) * 0.3\n",
        "\n",
        "\n",
        "model = Sequential()\n",
        "model.add(Dense(1, input_dim=1, activation='linear'))\n",
        "\n",
        "model.compile(optimizer='sgd', loss='mse', metrics=['mse'])\n",
        "\n",
        "weights = model.layers[0].get_weights()\n",
        "w_init = weights[0][0][0]\n",
        "b_init = weights[1][0]\n",
        "print('Linear regression model is initialized with weights w: %.2f, b: %.2f' % (w_init, b_init)) \n",
        "\n",
        "\n",
        "model.fit(x,y, batch_size=1, epochs=30, shuffle=False)\n",
        "\n",
        "weights = model.layers[0].get_weights()\n",
        "w_final = weights[0][0][0]\n",
        "b_final = weights[1][0]\n",
        "print('Linear regression model is trained to have weight w: %.2f, b: %.2f' % (w_final, b_final))\n",
        "\n",
        "predict = model.predict(data)\n",
        "\n",
        "plt.plot(data, predict, 'b', data , y, 'k.')\n",
        "plt.show()"
      ],
      "execution_count": 0,
      "outputs": [
        {
          "output_type": "stream",
          "text": [
            "Linear regression model is initialized with weights w: -0.55, b: 0.00\n",
            "WARNING:tensorflow:From /usr/local/lib/python3.6/dist-packages/tensorflow/python/ops/math_ops.py:3066: to_int32 (from tensorflow.python.ops.math_ops) is deprecated and will be removed in a future version.\n",
            "Instructions for updating:\n",
            "Use tf.cast instead.\n",
            "Epoch 1/30\n",
            "200/200 [==============================] - 0s 1ms/step - loss: 1.6177 - mean_squared_error: 1.6177\n",
            "Epoch 2/30\n",
            "200/200 [==============================] - 0s 749us/step - loss: 0.1735 - mean_squared_error: 0.1735\n",
            "Epoch 3/30\n",
            "200/200 [==============================] - 0s 738us/step - loss: 0.1665 - mean_squared_error: 0.1665\n",
            "Epoch 4/30\n",
            "200/200 [==============================] - 0s 782us/step - loss: 0.1601 - mean_squared_error: 0.1601\n",
            "Epoch 5/30\n",
            "200/200 [==============================] - 0s 743us/step - loss: 0.1542 - mean_squared_error: 0.1542\n",
            "Epoch 6/30\n",
            "200/200 [==============================] - 0s 793us/step - loss: 0.1488 - mean_squared_error: 0.1488\n",
            "Epoch 7/30\n",
            "200/200 [==============================] - 0s 716us/step - loss: 0.1439 - mean_squared_error: 0.1439\n",
            "Epoch 8/30\n",
            "200/200 [==============================] - 0s 730us/step - loss: 0.1394 - mean_squared_error: 0.1394\n",
            "Epoch 9/30\n",
            "200/200 [==============================] - 0s 736us/step - loss: 0.1352 - mean_squared_error: 0.1352\n",
            "Epoch 10/30\n",
            "200/200 [==============================] - 0s 745us/step - loss: 0.1315 - mean_squared_error: 0.1315\n",
            "Epoch 11/30\n",
            "200/200 [==============================] - 0s 732us/step - loss: 0.1280 - mean_squared_error: 0.1280\n",
            "Epoch 12/30\n",
            "200/200 [==============================] - 0s 732us/step - loss: 0.1248 - mean_squared_error: 0.1248\n",
            "Epoch 13/30\n",
            "200/200 [==============================] - 0s 709us/step - loss: 0.1220 - mean_squared_error: 0.1220\n",
            "Epoch 14/30\n",
            "200/200 [==============================] - 0s 737us/step - loss: 0.1193 - mean_squared_error: 0.1193\n",
            "Epoch 15/30\n",
            "200/200 [==============================] - 0s 770us/step - loss: 0.1169 - mean_squared_error: 0.1169\n",
            "Epoch 16/30\n",
            "200/200 [==============================] - 0s 786us/step - loss: 0.1147 - mean_squared_error: 0.1147\n",
            "Epoch 17/30\n",
            "200/200 [==============================] - 0s 693us/step - loss: 0.1127 - mean_squared_error: 0.1127\n",
            "Epoch 18/30\n",
            "200/200 [==============================] - 0s 721us/step - loss: 0.1108 - mean_squared_error: 0.1108\n",
            "Epoch 19/30\n",
            "200/200 [==============================] - 0s 717us/step - loss: 0.1092 - mean_squared_error: 0.1092\n",
            "Epoch 20/30\n",
            "200/200 [==============================] - 0s 713us/step - loss: 0.1076 - mean_squared_error: 0.1076\n",
            "Epoch 21/30\n",
            "200/200 [==============================] - 0s 712us/step - loss: 0.1062 - mean_squared_error: 0.1062\n",
            "Epoch 22/30\n",
            "200/200 [==============================] - 0s 717us/step - loss: 0.1050 - mean_squared_error: 0.1050\n",
            "Epoch 23/30\n",
            "200/200 [==============================] - 0s 709us/step - loss: 0.1038 - mean_squared_error: 0.1038\n",
            "Epoch 24/30\n",
            "200/200 [==============================] - 0s 709us/step - loss: 0.1028 - mean_squared_error: 0.1028\n",
            "Epoch 25/30\n",
            "200/200 [==============================] - 0s 701us/step - loss: 0.1018 - mean_squared_error: 0.1018\n",
            "Epoch 26/30\n",
            "200/200 [==============================] - 0s 723us/step - loss: 0.1009 - mean_squared_error: 0.1009\n",
            "Epoch 27/30\n",
            "200/200 [==============================] - 0s 727us/step - loss: 0.1001 - mean_squared_error: 0.1001\n",
            "Epoch 28/30\n",
            "200/200 [==============================] - 0s 706us/step - loss: 0.0994 - mean_squared_error: 0.0994\n",
            "Epoch 29/30\n",
            "200/200 [==============================] - 0s 720us/step - loss: 0.0987 - mean_squared_error: 0.0987\n",
            "Epoch 30/30\n",
            "200/200 [==============================] - 0s 703us/step - loss: 0.0981 - mean_squared_error: 0.0981\n",
            "Linear regression model is trained to have weight w: 3.60, b: 0.82\n"
          ],
          "name": "stdout"
        },
        {
          "output_type": "display_data",
          "data": {
            "image/png": "[encoded data removed]",
            "text/plain": [
              "<Figure size 432x288 with 1 Axes>"
            ]
          },
          "metadata": {
            "tags": []
          }
        }
      ]
    }
  ]
}